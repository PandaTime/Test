{
 "cells": [
  {
   "cell_type": "code",
   "execution_count": 2,
   "metadata": {
    "collapsed": false
   },
   "outputs": [],
   "source": [
    "import numpy as np\n",
    "import pandas as pd\n",
    "import scipy\n",
    "from scipy.stats import spearmanr"
   ]
  },
  {
   "cell_type": "code",
   "execution_count": 3,
   "metadata": {
    "collapsed": false
   },
   "outputs": [
    {
     "data": {
      "text/html": [
       "<div>\n",
       "<table border=\"1\" class=\"dataframe\">\n",
       "  <thead>\n",
       "    <tr style=\"text-align: right;\">\n",
       "      <th></th>\n",
       "      <th>Cost</th>\n",
       "      <th>Registration marketing</th>\n",
       "      <th>Cost per REG</th>\n",
       "      <th>Registration total</th>\n",
       "      <th>ROI. second day</th>\n",
       "      <th>Rev First day total</th>\n",
       "      <th>Retention second day. %</th>\n",
       "      <th>% Coverage mail 2-nd day</th>\n",
       "      <th>Mail Convertion rate 2-nd day</th>\n",
       "    </tr>\n",
       "  </thead>\n",
       "  <tbody>\n",
       "    <tr>\n",
       "      <th>pvalue</th>\n",
       "      <td>0.028652</td>\n",
       "      <td>0.000030</td>\n",
       "      <td>0.000066</td>\n",
       "      <td>0.000451</td>\n",
       "      <td>0.034167</td>\n",
       "      <td>0.005281</td>\n",
       "      <td>0</td>\n",
       "      <td>8.327705e-07</td>\n",
       "      <td>0.083155</td>\n",
       "    </tr>\n",
       "    <tr>\n",
       "      <th>correlation</th>\n",
       "      <td>-0.515230</td>\n",
       "      <td>-0.820857</td>\n",
       "      <td>0.800318</td>\n",
       "      <td>-0.739669</td>\n",
       "      <td>-0.501036</td>\n",
       "      <td>-0.627775</td>\n",
       "      <td>1</td>\n",
       "      <td>8.886617e-01</td>\n",
       "      <td>0.419426</td>\n",
       "    </tr>\n",
       "  </tbody>\n",
       "</table>\n",
       "</div>"
      ],
      "text/plain": [
       "                 Cost  Registration marketing  Cost per REG  \\\n",
       "pvalue       0.028652                0.000030      0.000066   \n",
       "correlation -0.515230               -0.820857      0.800318   \n",
       "\n",
       "             Registration total  ROI. second day  Rev First day total  \\\n",
       "pvalue                 0.000451         0.034167             0.005281   \n",
       "correlation           -0.739669        -0.501036            -0.627775   \n",
       "\n",
       "             Retention second day. %  % Coverage mail 2-nd day  \\\n",
       "pvalue                             0              8.327705e-07   \n",
       "correlation                        1              8.886617e-01   \n",
       "\n",
       "             Mail Convertion rate 2-nd day  \n",
       "pvalue                            0.083155  \n",
       "correlation                       0.419426  "
      ]
     },
     "execution_count": 3,
     "metadata": {},
     "output_type": "execute_result"
    }
   ],
   "source": [
    "data = pd.read_table('data.txt', sep='\\t')\n",
    "data = data.dropna()\n",
    "\n",
    "#calculating correlation/pvalue\n",
    "pear = data.values\n",
    "correlation, pvalue = scipy.stats.spearmanr(pear)\n",
    "\n",
    "# making it beautiful\n",
    "pdata = pd.DataFrame(pvalue[6][np.newaxis], columns=data.columns, index = ['pvalue'])\n",
    "cdata = pd.DataFrame(correlation[6][np.newaxis], columns=data.columns, index = ['correlation'])\n",
    "pdata = pdata.append(cdata)\n",
    "pdata"
   ]
  },
  {
   "cell_type": "code",
   "execution_count": 4,
   "metadata": {
    "collapsed": false
   },
   "outputs": [
    {
     "data": {
      "text/html": [
       "<div>\n",
       "<table border=\"1\" class=\"dataframe\">\n",
       "  <thead>\n",
       "    <tr style=\"text-align: right;\">\n",
       "      <th></th>\n",
       "      <th>Retention second day. %</th>\n",
       "      <th>Retention non-market. absolute</th>\n",
       "      <th>Retention market. absolute</th>\n",
       "    </tr>\n",
       "  </thead>\n",
       "  <tbody>\n",
       "    <tr>\n",
       "      <th>pvalue</th>\n",
       "      <td>0</td>\n",
       "      <td>0.000002</td>\n",
       "      <td>0.906112</td>\n",
       "    </tr>\n",
       "    <tr>\n",
       "      <th>correlation</th>\n",
       "      <td>1</td>\n",
       "      <td>0.879711</td>\n",
       "      <td>0.029943</td>\n",
       "    </tr>\n",
       "  </tbody>\n",
       "</table>\n",
       "</div>"
      ],
      "text/plain": [
       "             Retention second day. %  Retention non-market. absolute  \\\n",
       "pvalue                             0                        0.000002   \n",
       "correlation                        1                        0.879711   \n",
       "\n",
       "             Retention market. absolute  \n",
       "pvalue                         0.906112  \n",
       "correlation                    0.029943  "
      ]
     },
     "execution_count": 4,
     "metadata": {},
     "output_type": "execute_result"
    }
   ],
   "source": [
    "# Getting additional info\n",
    "data = pd.read_table('ret_market.txt', sep='\\t')\n",
    "data = data.dropna()\n",
    "\n",
    "#calculating correlation/pvalue\n",
    "pear = data.values\n",
    "correlation, pvalue = scipy.stats.spearmanr(pear)\n",
    "\n",
    "# making it beautiful\n",
    "pdata = pd.DataFrame(pvalue[0][np.newaxis], columns=data.columns, index = ['pvalue'])\n",
    "cdata = pd.DataFrame(correlation[0][np.newaxis], columns=data.columns, index = ['correlation'])\n",
    "pdata = pdata.append(cdata)\n",
    "pdata"
   ]
  },
  {
   "cell_type": "code",
   "execution_count": null,
   "metadata": {
    "collapsed": true
   },
   "outputs": [],
   "source": []
  }
 ],
 "metadata": {
  "kernelspec": {
   "display_name": "Python 2",
   "language": "python",
   "name": "python2"
  },
  "language_info": {
   "codemirror_mode": {
    "name": "ipython",
    "version": 2
   },
   "file_extension": ".py",
   "mimetype": "text/x-python",
   "name": "python",
   "nbconvert_exporter": "python",
   "pygments_lexer": "ipython2",
   "version": "2.7.11"
  }
 },
 "nbformat": 4,
 "nbformat_minor": 0
}
